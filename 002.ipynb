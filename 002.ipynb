{
 "cells": [
  {
   "cell_type": "code",
   "execution_count": 1,
   "metadata": {
    "ExecuteTime": {
     "end_time": "2021-11-21T04:01:43.986525Z",
     "start_time": "2021-11-21T04:01:38.232794Z"
    }
   },
   "outputs": [
    {
     "data": {
      "text/html": [
       "<div>\n",
       "<style scoped>\n",
       "    .dataframe tbody tr th:only-of-type {\n",
       "        vertical-align: middle;\n",
       "    }\n",
       "\n",
       "    .dataframe tbody tr th {\n",
       "        vertical-align: top;\n",
       "    }\n",
       "\n",
       "    .dataframe thead th {\n",
       "        text-align: right;\n",
       "    }\n",
       "</style>\n",
       "<table border=\"1\" class=\"dataframe\">\n",
       "  <thead>\n",
       "    <tr style=\"text-align: right;\">\n",
       "      <th></th>\n",
       "      <th>Active</th>\n",
       "      <th>Achievement</th>\n",
       "      <th>Confidence</th>\n",
       "      <th>Tech</th>\n",
       "      <th>Basic</th>\n",
       "      <th>Q3</th>\n",
       "      <th>Entertaining</th>\n",
       "      <th>Water_Activity</th>\n",
       "      <th>Own</th>\n",
       "      <th>With_Family</th>\n",
       "      <th>...</th>\n",
       "      <th>Character</th>\n",
       "      <th>Q11</th>\n",
       "      <th>Q12</th>\n",
       "      <th>Q13</th>\n",
       "      <th>Q14</th>\n",
       "      <th>Q15</th>\n",
       "      <th>equi1</th>\n",
       "      <th>equi2</th>\n",
       "      <th>equi3</th>\n",
       "      <th>equi4</th>\n",
       "    </tr>\n",
       "  </thead>\n",
       "  <tbody>\n",
       "    <tr>\n",
       "      <th>0</th>\n",
       "      <td>1.603504</td>\n",
       "      <td>1.925999</td>\n",
       "      <td>0.588489</td>\n",
       "      <td>2.312300</td>\n",
       "      <td>-1.403017</td>\n",
       "      <td>-0.215617</td>\n",
       "      <td>0.695586</td>\n",
       "      <td>0.646742</td>\n",
       "      <td>0.808924</td>\n",
       "      <td>-0.263064</td>\n",
       "      <td>...</td>\n",
       "      <td>3.418595</td>\n",
       "      <td>1.107807</td>\n",
       "      <td>1.200646</td>\n",
       "      <td>1.629578</td>\n",
       "      <td>-0.662915</td>\n",
       "      <td>-0.474762</td>\n",
       "      <td>-0.134439</td>\n",
       "      <td>-0.034823</td>\n",
       "      <td>-0.000357</td>\n",
       "      <td>-0.025073</td>\n",
       "    </tr>\n",
       "    <tr>\n",
       "      <th>1</th>\n",
       "      <td>0.183254</td>\n",
       "      <td>1.290527</td>\n",
       "      <td>-0.175544</td>\n",
       "      <td>0.822054</td>\n",
       "      <td>-0.744389</td>\n",
       "      <td>-0.215617</td>\n",
       "      <td>0.729948</td>\n",
       "      <td>0.575782</td>\n",
       "      <td>1.468832</td>\n",
       "      <td>0.589595</td>\n",
       "      <td>...</td>\n",
       "      <td>0.769378</td>\n",
       "      <td>1.107807</td>\n",
       "      <td>0.770073</td>\n",
       "      <td>1.629578</td>\n",
       "      <td>-0.662915</td>\n",
       "      <td>-1.346503</td>\n",
       "      <td>-0.940787</td>\n",
       "      <td>-0.243688</td>\n",
       "      <td>-0.002500</td>\n",
       "      <td>-0.175460</td>\n",
       "    </tr>\n",
       "    <tr>\n",
       "      <th>2</th>\n",
       "      <td>-0.412127</td>\n",
       "      <td>1.290524</td>\n",
       "      <td>0.255103</td>\n",
       "      <td>1.639500</td>\n",
       "      <td>-1.675826</td>\n",
       "      <td>1.204830</td>\n",
       "      <td>0.500458</td>\n",
       "      <td>0.565392</td>\n",
       "      <td>0.712959</td>\n",
       "      <td>-0.333501</td>\n",
       "      <td>...</td>\n",
       "      <td>0.795421</td>\n",
       "      <td>-0.902684</td>\n",
       "      <td>0.124213</td>\n",
       "      <td>1.629578</td>\n",
       "      <td>-0.662915</td>\n",
       "      <td>-1.346503</td>\n",
       "      <td>-0.134439</td>\n",
       "      <td>-0.034823</td>\n",
       "      <td>-0.000357</td>\n",
       "      <td>-0.025073</td>\n",
       "    </tr>\n",
       "    <tr>\n",
       "      <th>3</th>\n",
       "      <td>0.722554</td>\n",
       "      <td>0.272728</td>\n",
       "      <td>0.468732</td>\n",
       "      <td>1.946347</td>\n",
       "      <td>-0.437991</td>\n",
       "      <td>-0.215617</td>\n",
       "      <td>-1.140026</td>\n",
       "      <td>0.586112</td>\n",
       "      <td>-0.215492</td>\n",
       "      <td>-0.616949</td>\n",
       "      <td>...</td>\n",
       "      <td>0.551951</td>\n",
       "      <td>-0.902684</td>\n",
       "      <td>-0.091074</td>\n",
       "      <td>1.629578</td>\n",
       "      <td>-0.662915</td>\n",
       "      <td>-1.346503</td>\n",
       "      <td>-0.134439</td>\n",
       "      <td>-0.034823</td>\n",
       "      <td>-0.000357</td>\n",
       "      <td>-0.025073</td>\n",
       "    </tr>\n",
       "    <tr>\n",
       "      <th>4</th>\n",
       "      <td>0.666488</td>\n",
       "      <td>1.556704</td>\n",
       "      <td>1.426527</td>\n",
       "      <td>1.788969</td>\n",
       "      <td>-0.697391</td>\n",
       "      <td>-0.215617</td>\n",
       "      <td>-0.518371</td>\n",
       "      <td>0.424146</td>\n",
       "      <td>-0.264416</td>\n",
       "      <td>-0.131743</td>\n",
       "      <td>...</td>\n",
       "      <td>0.536141</td>\n",
       "      <td>-0.902684</td>\n",
       "      <td>-0.091074</td>\n",
       "      <td>1.629578</td>\n",
       "      <td>-0.662915</td>\n",
       "      <td>-1.346503</td>\n",
       "      <td>-0.134439</td>\n",
       "      <td>-0.034823</td>\n",
       "      <td>-0.000357</td>\n",
       "      <td>-0.025073</td>\n",
       "    </tr>\n",
       "  </tbody>\n",
       "</table>\n",
       "<p>5 rows × 21 columns</p>\n",
       "</div>"
      ],
      "text/plain": [
       "     Active  Achievement  Confidence      Tech     Basic        Q3  \\\n",
       "0  1.603504     1.925999    0.588489  2.312300 -1.403017 -0.215617   \n",
       "1  0.183254     1.290527   -0.175544  0.822054 -0.744389 -0.215617   \n",
       "2 -0.412127     1.290524    0.255103  1.639500 -1.675826  1.204830   \n",
       "3  0.722554     0.272728    0.468732  1.946347 -0.437991 -0.215617   \n",
       "4  0.666488     1.556704    1.426527  1.788969 -0.697391 -0.215617   \n",
       "\n",
       "   Entertaining  Water_Activity       Own  With_Family  ...  Character  \\\n",
       "0      0.695586        0.646742  0.808924    -0.263064  ...   3.418595   \n",
       "1      0.729948        0.575782  1.468832     0.589595  ...   0.769378   \n",
       "2      0.500458        0.565392  0.712959    -0.333501  ...   0.795421   \n",
       "3     -1.140026        0.586112 -0.215492    -0.616949  ...   0.551951   \n",
       "4     -0.518371        0.424146 -0.264416    -0.131743  ...   0.536141   \n",
       "\n",
       "        Q11       Q12       Q13       Q14       Q15     equi1     equi2  \\\n",
       "0  1.107807  1.200646  1.629578 -0.662915 -0.474762 -0.134439 -0.034823   \n",
       "1  1.107807  0.770073  1.629578 -0.662915 -1.346503 -0.940787 -0.243688   \n",
       "2 -0.902684  0.124213  1.629578 -0.662915 -1.346503 -0.134439 -0.034823   \n",
       "3 -0.902684 -0.091074  1.629578 -0.662915 -1.346503 -0.134439 -0.034823   \n",
       "4 -0.902684 -0.091074  1.629578 -0.662915 -1.346503 -0.134439 -0.034823   \n",
       "\n",
       "      equi3     equi4  \n",
       "0 -0.000357 -0.025073  \n",
       "1 -0.002500 -0.175460  \n",
       "2 -0.000357 -0.025073  \n",
       "3 -0.000357 -0.025073  \n",
       "4 -0.000357 -0.025073  \n",
       "\n",
       "[5 rows x 21 columns]"
      ]
     },
     "execution_count": 1,
     "metadata": {},
     "output_type": "execute_result"
    }
   ],
   "source": [
    "from sklearn.preprocessing import scale\n",
    "from sklearn.cluster import KMeans\n",
    "from sklearn.decomposition import PCA\n",
    "from sklearn.metrics import silhouette_samples, silhouette_score\n",
    "from sklearn.preprocessing import StandardScaler\n",
    "from sklearn.mixture import GaussianMixture\n",
    "import matplotlib.pyplot as plt\n",
    "import seaborn as sns\n",
    "import numpy as np\n",
    "import pandas as pd\n",
    "import matplotlib.cm as cm\n",
    "import math\n",
    "\n",
    "data = pd.read_csv('data_3.csv')\n",
    "data.head()"
   ]
  },
  {
   "cell_type": "code",
   "execution_count": 2,
   "metadata": {
    "ExecuteTime": {
     "end_time": "2021-11-21T04:02:23.976681Z",
     "start_time": "2021-11-21T04:02:23.962647Z"
    }
   },
   "outputs": [],
   "source": [
    "data1 = data.copy()\n",
    "data2 = data.copy()\n",
    "data3 = data.copy()\n",
    "data4 = data.copy()"
   ]
  },
  {
   "cell_type": "markdown",
   "metadata": {},
   "source": [
    "## K-means"
   ]
  },
  {
   "cell_type": "code",
   "execution_count": 3,
   "metadata": {
    "ExecuteTime": {
     "end_time": "2021-11-21T04:06:33.341919Z",
     "start_time": "2021-11-21T04:06:31.309018Z"
    }
   },
   "outputs": [
    {
     "name": "stdout",
     "output_type": "stream",
     "text": [
      "k: 2   inertia: 35654.01498102322\n",
      "k: 3   inertia: 33382.328143289844\n",
      "k: 4   inertia: 31665.998713476678\n",
      "k: 5   inertia: 30293.798974976675\n",
      "k: 6   inertia: 29162.153925750623\n",
      "k: 7   inertia: 28310.779261507916\n",
      "k: 8   inertia: 27485.163284326365\n",
      "k: 9   inertia: 26756.15076168108\n",
      "k: 10   inertia: 26125.192416437305\n",
      "k: 11   inertia: 25666.125725605347\n",
      "k: 12   inertia: 25240.181944202883\n",
      "k: 13   inertia: 24859.113659623465\n",
      "k: 14   inertia: 24429.874144022815\n"
     ]
    }
   ],
   "source": [
    "# inertia : cluster간의 거리의 합, 이것이 급격히 떨어지는 구간이 생기는데 그때의 k를 군집의 개수로 사용\n",
    "\n",
    "inertia_arr = []\n",
    "k_range = range(2,15)\n",
    "\n",
    "for k in k_range:\n",
    "    kmeans = KMeans(n_clusters=k, random_state=1422)\n",
    "    kmeans.fit(data1)\n",
    "    inertia = kmeans.inertia_\n",
    "    \n",
    "    print('k:',k,'  inertia:',inertia)\n",
    "    \n",
    "    inertia_arr.append(inertia)\n",
    "    \n",
    "inertia_arr = np.array(inertia_arr)"
   ]
  },
  {
   "cell_type": "code",
   "execution_count": 4,
   "metadata": {
    "ExecuteTime": {
     "end_time": "2021-11-21T04:06:48.389494Z",
     "start_time": "2021-11-21T04:06:48.224709Z"
    }
   },
   "outputs": [
    {
     "data": {
      "text/plain": [
       "[<matplotlib.lines.Line2D at 0x25d15d591c0>]"
      ]
     },
     "execution_count": 4,
     "metadata": {},
     "output_type": "execute_result"
    },
    {
     "data": {
      "image/png": "[encoded data removed]",
      "text/plain": [
       "<Figure size 432x288 with 1 Axes>"
      ]
     },
     "metadata": {
      "needs_background": "light"
     },
     "output_type": "display_data"
    }
   ],
   "source": [
    "plt.plot(k_range, inertia_arr)"
   ]
  },
  {
   "cell_type": "code",
   "execution_count": 6,
   "metadata": {
    "ExecuteTime": {
     "end_time": "2021-11-21T04:10:49.900113Z",
     "start_time": "2021-11-21T04:10:44.540163Z"
    }
   },
   "outputs": [
    {
     "name": "stdout",
     "output_type": "stream",
     "text": [
      "k: 2   score: 0.1322907665534081\n",
      "k: 3   score: 0.09361171556392064\n",
      "k: 4   score: 0.09300304471888235\n",
      "k: 5   score: 0.09272536474871255\n",
      "k: 6   score: 0.08913039024344593\n",
      "k: 7   score: 0.08491972171952054\n",
      "k: 8   score: 0.08535794950287126\n",
      "k: 9   score: 0.07927926808044894\n",
      "k: 10   score: 0.08173490111282021\n",
      "k: 11   score: 0.07897609305647166\n",
      "k: 12   score: 0.07731336142318433\n",
      "k: 13   score: 0.0755260109758761\n",
      "k: 14   score: 0.0786300992954318\n",
      "k: 15   score: 0.07839318362162925\n",
      "k: 16   score: 0.08143225054339044\n",
      "k: 17   score: 0.07629441342915831\n",
      "k: 18   score: 0.07964522504334162\n",
      "k: 19   score: 0.08023203150242784\n",
      "best n: 2   best score: 0.1322907665534081\n"
     ]
    }
   ],
   "source": [
    "# Silhouette_score\n",
    "\n",
    "k_range = range(2,20)\n",
    "best_n = -1\n",
    "best_silhouette_score = -1\n",
    "\n",
    "for k in k_range:\n",
    "    kmeans = KMeans(n_clusters=k, random_state=1422)\n",
    "    kmeans.fit(data1)\n",
    "    clusters = kmeans.predict(data1)\n",
    "    \n",
    "    score = silhouette_score(data, clusters)\n",
    "    print('k:',k,'  score:',score)\n",
    "    \n",
    "    if score > best_silhouette_score:\n",
    "        best_n = k\n",
    "        best_silhouette_score = score\n",
    "        \n",
    "print('best n:', best_n, '  best score:', best_silhouette_score)"
   ]
  },
  {
   "cell_type": "code",
   "execution_count": null,
   "metadata": {},
   "outputs": [],
   "source": []
  },
  {
   "cell_type": "code",
   "execution_count": null,
   "metadata": {},
   "outputs": [],
   "source": []
  },
  {
   "cell_type": "markdown",
   "metadata": {},
   "source": [
    "## 계층적 군집화"
   ]
  },
  {
   "cell_type": "code",
   "execution_count": 7,
   "metadata": {
    "ExecuteTime": {
     "end_time": "2021-11-21T04:15:21.885122Z",
     "start_time": "2021-11-21T04:15:11.958223Z"
    }
   },
   "outputs": [
    {
     "name": "stdout",
     "output_type": "stream",
     "text": [
      "single\n",
      "k: 2   score: 0.4580539512858085\n",
      "k: 3   score: 0.40322327929836843\n",
      "k: 4   score: 0.32371424840190544\n",
      "k: 5   score: 0.20812278751859545\n",
      "k: 6   score: 0.17716577977177767\n",
      "k: 7   score: 0.1480020623444263\n",
      "k: 8   score: 0.11517132897930886\n",
      "k: 9   score: 0.10576518030709346\n",
      "k: 10   score: 0.10253373222998005\n",
      "average\n",
      "k: 2   score: 0.4580539512858085\n",
      "k: 3   score: 0.40322327929836843\n",
      "k: 4   score: 0.32371424840190544\n",
      "k: 5   score: 0.2809389638864314\n",
      "k: 6   score: 0.2151111250766897\n",
      "k: 7   score: 0.17005763800722087\n",
      "k: 8   score: 0.1510321650864312\n",
      "k: 9   score: 0.11946786385448474\n",
      "k: 10   score: 0.1129132598501991\n",
      "complete\n",
      "k: 2   score: 0.09129610158613047\n",
      "k: 3   score: 0.08221009240798094\n",
      "k: 4   score: 0.06152858505171781\n",
      "k: 5   score: 0.06030626223881425\n",
      "k: 6   score: 0.03694549500683073\n",
      "k: 7   score: 0.040780278059743616\n",
      "k: 8   score: 0.0358138271600954\n",
      "k: 9   score: 0.033956825582155646\n",
      "k: 10   score: 0.03711104676287567\n",
      "ward\n",
      "k: 2   score: 0.08497288202029926\n",
      "k: 3   score: 0.044365135878764075\n",
      "k: 4   score: 0.05464522977022557\n",
      "k: 5   score: 0.05590821171345409\n",
      "k: 6   score: 0.04853004760381164\n",
      "k: 7   score: 0.05547218896753221\n",
      "k: 8   score: 0.04623318030572456\n",
      "k: 9   score: 0.05248216989485242\n",
      "k: 10   score: 0.03783725883986078\n"
     ]
    },
    {
     "data": {
      "text/html": [
       "<div>\n",
       "<style scoped>\n",
       "    .dataframe tbody tr th:only-of-type {\n",
       "        vertical-align: middle;\n",
       "    }\n",
       "\n",
       "    .dataframe tbody tr th {\n",
       "        vertical-align: top;\n",
       "    }\n",
       "\n",
       "    .dataframe thead th {\n",
       "        text-align: right;\n",
       "    }\n",
       "</style>\n",
       "<table border=\"1\" class=\"dataframe\">\n",
       "  <thead>\n",
       "    <tr style=\"text-align: right;\">\n",
       "      <th></th>\n",
       "      <th>k</th>\n",
       "      <th>single_score</th>\n",
       "      <th>average_score</th>\n",
       "      <th>complete_score</th>\n",
       "      <th>ward_score</th>\n",
       "    </tr>\n",
       "  </thead>\n",
       "  <tbody>\n",
       "    <tr>\n",
       "      <th>0</th>\n",
       "      <td>2</td>\n",
       "      <td>0.458054</td>\n",
       "      <td>0.458054</td>\n",
       "      <td>0.091296</td>\n",
       "      <td>0.084973</td>\n",
       "    </tr>\n",
       "    <tr>\n",
       "      <th>1</th>\n",
       "      <td>3</td>\n",
       "      <td>0.403223</td>\n",
       "      <td>0.403223</td>\n",
       "      <td>0.082210</td>\n",
       "      <td>0.044365</td>\n",
       "    </tr>\n",
       "    <tr>\n",
       "      <th>2</th>\n",
       "      <td>4</td>\n",
       "      <td>0.323714</td>\n",
       "      <td>0.323714</td>\n",
       "      <td>0.061529</td>\n",
       "      <td>0.054645</td>\n",
       "    </tr>\n",
       "    <tr>\n",
       "      <th>3</th>\n",
       "      <td>5</td>\n",
       "      <td>0.208123</td>\n",
       "      <td>0.280939</td>\n",
       "      <td>0.060306</td>\n",
       "      <td>0.055908</td>\n",
       "    </tr>\n",
       "    <tr>\n",
       "      <th>4</th>\n",
       "      <td>6</td>\n",
       "      <td>0.177166</td>\n",
       "      <td>0.215111</td>\n",
       "      <td>0.036945</td>\n",
       "      <td>0.048530</td>\n",
       "    </tr>\n",
       "    <tr>\n",
       "      <th>5</th>\n",
       "      <td>7</td>\n",
       "      <td>0.148002</td>\n",
       "      <td>0.170058</td>\n",
       "      <td>0.040780</td>\n",
       "      <td>0.055472</td>\n",
       "    </tr>\n",
       "    <tr>\n",
       "      <th>6</th>\n",
       "      <td>8</td>\n",
       "      <td>0.115171</td>\n",
       "      <td>0.151032</td>\n",
       "      <td>0.035814</td>\n",
       "      <td>0.046233</td>\n",
       "    </tr>\n",
       "    <tr>\n",
       "      <th>7</th>\n",
       "      <td>9</td>\n",
       "      <td>0.105765</td>\n",
       "      <td>0.119468</td>\n",
       "      <td>0.033957</td>\n",
       "      <td>0.052482</td>\n",
       "    </tr>\n",
       "    <tr>\n",
       "      <th>8</th>\n",
       "      <td>10</td>\n",
       "      <td>0.102534</td>\n",
       "      <td>0.112913</td>\n",
       "      <td>0.037111</td>\n",
       "      <td>0.037837</td>\n",
       "    </tr>\n",
       "  </tbody>\n",
       "</table>\n",
       "</div>"
      ],
      "text/plain": [
       "    k  single_score  average_score  complete_score  ward_score\n",
       "0   2      0.458054       0.458054        0.091296    0.084973\n",
       "1   3      0.403223       0.403223        0.082210    0.044365\n",
       "2   4      0.323714       0.323714        0.061529    0.054645\n",
       "3   5      0.208123       0.280939        0.060306    0.055908\n",
       "4   6      0.177166       0.215111        0.036945    0.048530\n",
       "5   7      0.148002       0.170058        0.040780    0.055472\n",
       "6   8      0.115171       0.151032        0.035814    0.046233\n",
       "7   9      0.105765       0.119468        0.033957    0.052482\n",
       "8  10      0.102534       0.112913        0.037111    0.037837"
      ]
     },
     "execution_count": 7,
     "metadata": {},
     "output_type": "execute_result"
    }
   ],
   "source": [
    "from sklearn.cluster import AgglomerativeClustering\n",
    "\n",
    "linkage = ['single', 'average', 'complete', 'ward']\n",
    "k_range = range(2,11)\n",
    "k_silhouette_df = pd.DataFrame(k_range, columns=['k'])\n",
    "\n",
    "for connect in linkage:\n",
    "    k_silhouette = []\n",
    "    print(connect)\n",
    "    \n",
    "    for k in k_range:\n",
    "        clustering = AgglomerativeClustering(n_clusters=k, linkage=connect)\n",
    "        clusters = clustering.fit_predict(data2)\n",
    "        score = silhouette_score(data2, clusters)\n",
    "        \n",
    "        print('k:',k,'  score:',score)\n",
    "        \n",
    "        result = [score]\n",
    "        k_silhouette.append(result)\n",
    "        \n",
    "    score_df = pd.DataFrame(k_silhouette, columns=[connect+'_score'])\n",
    "    k_silhouette_df = pd.concat([k_silhouette_df, score_df], axis=1)\n",
    "    \n",
    "k_silhouette_df"
   ]
  },
  {
   "cell_type": "code",
   "execution_count": null,
   "metadata": {},
   "outputs": [],
   "source": []
  }
 ],
 "metadata": {
  "kernelspec": {
   "display_name": "Python 3",
   "language": "python",
   "name": "python3"
  },
  "language_info": {
   "codemirror_mode": {
    "name": "ipython",
    "version": 3
   },
   "file_extension": ".py",
   "mimetype": "text/x-python",
   "name": "python",
   "nbconvert_exporter": "python",
   "pygments_lexer": "ipython3",
   "version": "3.8.5"
  },
  "toc": {
   "base_numbering": 1,
   "nav_menu": {},
   "number_sections": true,
   "sideBar": true,
   "skip_h1_title": false,
   "title_cell": "Table of Contents",
   "title_sidebar": "Contents",
   "toc_cell": false,
   "toc_position": {},
   "toc_section_display": true,
   "toc_window_display": false
  },
  "varInspector": {
   "cols": {
    "lenName": 16,
    "lenType": 16,
    "lenVar": 40
   },
   "kernels_config": {
    "python": {
     "delete_cmd_postfix": "",
     "delete_cmd_prefix": "del ",
     "library": "var_list.py",
     "varRefreshCmd": "print(var_dic_list())"
    },
    "r": {
     "delete_cmd_postfix": ") ",
     "delete_cmd_prefix": "rm(",
     "library": "var_list.r",
     "varRefreshCmd": "cat(var_dic_list()) "
    }
   },
   "types_to_exclude": [
    "module",
    "function",
    "builtin_function_or_method",
    "instance",
    "_Feature"
   ],
   "window_display": false
  }
 },
 "nbformat": 4,
 "nbformat_minor": 4
}
