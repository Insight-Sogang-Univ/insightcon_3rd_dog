{
 "cells": [
  {
   "cell_type": "code",
   "execution_count": 1,
   "id": "b23112b3",
   "metadata": {},
   "outputs": [
    {
     "data": {
      "text/html": [
       "<div>\n",
       "<style scoped>\n",
       "    .dataframe tbody tr th:only-of-type {\n",
       "        vertical-align: middle;\n",
       "    }\n",
       "\n",
       "    .dataframe tbody tr th {\n",
       "        vertical-align: top;\n",
       "    }\n",
       "\n",
       "    .dataframe thead th {\n",
       "        text-align: right;\n",
       "    }\n",
       "</style>\n",
       "<table border=\"1\" class=\"dataframe\">\n",
       "  <thead>\n",
       "    <tr style=\"text-align: right;\">\n",
       "      <th></th>\n",
       "      <th>RESPID</th>\n",
       "      <th>Q1.1</th>\n",
       "      <th>Q1.2</th>\n",
       "      <th>Q1.3</th>\n",
       "      <th>Q1.4</th>\n",
       "      <th>Q1.5</th>\n",
       "      <th>Q1.6</th>\n",
       "      <th>Q1.7</th>\n",
       "      <th>Q1.8</th>\n",
       "      <th>Q1.9</th>\n",
       "      <th>...</th>\n",
       "      <th>Q16.20</th>\n",
       "      <th>Q16.21</th>\n",
       "      <th>Q16.22</th>\n",
       "      <th>Q16.23</th>\n",
       "      <th>Q16.24</th>\n",
       "      <th>Q16.25</th>\n",
       "      <th>Q16.26</th>\n",
       "      <th>Q16.27</th>\n",
       "      <th>Q17</th>\n",
       "      <th>Q18</th>\n",
       "    </tr>\n",
       "  </thead>\n",
       "  <tbody>\n",
       "    <tr>\n",
       "      <th>0</th>\n",
       "      <td>23822</td>\n",
       "      <td>5</td>\n",
       "      <td>1</td>\n",
       "      <td>5</td>\n",
       "      <td>5</td>\n",
       "      <td>5</td>\n",
       "      <td>5</td>\n",
       "      <td>5</td>\n",
       "      <td>3</td>\n",
       "      <td>5</td>\n",
       "      <td>...</td>\n",
       "      <td>4</td>\n",
       "      <td>4</td>\n",
       "      <td>4</td>\n",
       "      <td>4</td>\n",
       "      <td>5</td>\n",
       "      <td>4</td>\n",
       "      <td>4</td>\n",
       "      <td>4</td>\n",
       "      <td>0</td>\n",
       "      <td>1</td>\n",
       "    </tr>\n",
       "    <tr>\n",
       "      <th>1</th>\n",
       "      <td>224795</td>\n",
       "      <td>3</td>\n",
       "      <td>2</td>\n",
       "      <td>4</td>\n",
       "      <td>4</td>\n",
       "      <td>4</td>\n",
       "      <td>4</td>\n",
       "      <td>5</td>\n",
       "      <td>3</td>\n",
       "      <td>4</td>\n",
       "      <td>...</td>\n",
       "      <td>4</td>\n",
       "      <td>3</td>\n",
       "      <td>3</td>\n",
       "      <td>4</td>\n",
       "      <td>3</td>\n",
       "      <td>3</td>\n",
       "      <td>3</td>\n",
       "      <td>3</td>\n",
       "      <td>1</td>\n",
       "      <td>1</td>\n",
       "    </tr>\n",
       "    <tr>\n",
       "      <th>2</th>\n",
       "      <td>20952</td>\n",
       "      <td>3</td>\n",
       "      <td>1</td>\n",
       "      <td>4</td>\n",
       "      <td>4</td>\n",
       "      <td>5</td>\n",
       "      <td>4</td>\n",
       "      <td>4</td>\n",
       "      <td>2</td>\n",
       "      <td>4</td>\n",
       "      <td>...</td>\n",
       "      <td>5</td>\n",
       "      <td>3</td>\n",
       "      <td>3</td>\n",
       "      <td>5</td>\n",
       "      <td>2</td>\n",
       "      <td>4</td>\n",
       "      <td>3</td>\n",
       "      <td>5</td>\n",
       "      <td>1</td>\n",
       "      <td>0</td>\n",
       "    </tr>\n",
       "    <tr>\n",
       "      <th>3</th>\n",
       "      <td>5612</td>\n",
       "      <td>5</td>\n",
       "      <td>2</td>\n",
       "      <td>3</td>\n",
       "      <td>4</td>\n",
       "      <td>5</td>\n",
       "      <td>5</td>\n",
       "      <td>3</td>\n",
       "      <td>3</td>\n",
       "      <td>3</td>\n",
       "      <td>...</td>\n",
       "      <td>4</td>\n",
       "      <td>4</td>\n",
       "      <td>4</td>\n",
       "      <td>4</td>\n",
       "      <td>2</td>\n",
       "      <td>5</td>\n",
       "      <td>5</td>\n",
       "      <td>4</td>\n",
       "      <td>1</td>\n",
       "      <td>0</td>\n",
       "    </tr>\n",
       "    <tr>\n",
       "      <th>4</th>\n",
       "      <td>15016</td>\n",
       "      <td>4</td>\n",
       "      <td>2</td>\n",
       "      <td>4</td>\n",
       "      <td>5</td>\n",
       "      <td>5</td>\n",
       "      <td>4</td>\n",
       "      <td>5</td>\n",
       "      <td>4</td>\n",
       "      <td>5</td>\n",
       "      <td>...</td>\n",
       "      <td>4</td>\n",
       "      <td>4</td>\n",
       "      <td>5</td>\n",
       "      <td>5</td>\n",
       "      <td>3</td>\n",
       "      <td>4</td>\n",
       "      <td>5</td>\n",
       "      <td>4</td>\n",
       "      <td>0</td>\n",
       "      <td>0</td>\n",
       "    </tr>\n",
       "  </tbody>\n",
       "</table>\n",
       "<p>5 rows × 82 columns</p>\n",
       "</div>"
      ],
      "text/plain": [
       "   RESPID  Q1.1  Q1.2  Q1.3  Q1.4  Q1.5  Q1.6  Q1.7  Q1.8  Q1.9  ...  Q16.20  \\\n",
       "0   23822     5     1     5     5     5     5     5     3     5  ...       4   \n",
       "1  224795     3     2     4     4     4     4     5     3     4  ...       4   \n",
       "2   20952     3     1     4     4     5     4     4     2     4  ...       5   \n",
       "3    5612     5     2     3     4     5     5     3     3     3  ...       4   \n",
       "4   15016     4     2     4     5     5     4     5     4     5  ...       4   \n",
       "\n",
       "   Q16.21  Q16.22  Q16.23  Q16.24  Q16.25  Q16.26  Q16.27  Q17  Q18  \n",
       "0       4       4       4       5       4       4       4    0    1  \n",
       "1       3       3       4       3       3       3       3    1    1  \n",
       "2       3       3       5       2       4       3       5    1    0  \n",
       "3       4       4       4       2       5       5       4    1    0  \n",
       "4       4       5       5       3       4       5       4    0    0  \n",
       "\n",
       "[5 rows x 82 columns]"
      ]
     },
     "execution_count": 1,
     "metadata": {},
     "output_type": "execute_result"
    }
   ],
   "source": [
    "from factor_analyzer import FactorAnalyzer\n",
    "from sklearn.preprocessing import scale\n",
    "from sklearn.cluster import KMeans\n",
    "from sklearn.decomposition import PCA\n",
    "from sklearn.metrics import silhouette_samples, silhouette_score\n",
    "from sklearn.preprocessing import StandardScaler\n",
    "from sklearn.mixture import GaussianMixture\n",
    "import matplotlib.pyplot as plt\n",
    "import seaborn as sns\n",
    "import numpy as np\n",
    "import pandas as pd\n",
    "import matplotlib.cm as cm\n",
    "import math\n",
    "\n",
    "data = pd.read_csv('인사이콘3_Data.csv')\n",
    "data.head()"
   ]
  },
  {
   "cell_type": "markdown",
   "id": "b1a1285b",
   "metadata": {},
   "source": [
    "### data를 1차원으로 차원축소 (방법은 그냥 평균내기)"
   ]
  },
  {
   "cell_type": "code",
   "execution_count": 2,
   "id": "b219378f",
   "metadata": {},
   "outputs": [
    {
     "data": {
      "text/html": [
       "<div>\n",
       "<style scoped>\n",
       "    .dataframe tbody tr th:only-of-type {\n",
       "        vertical-align: middle;\n",
       "    }\n",
       "\n",
       "    .dataframe tbody tr th {\n",
       "        vertical-align: top;\n",
       "    }\n",
       "\n",
       "    .dataframe thead th {\n",
       "        text-align: right;\n",
       "    }\n",
       "</style>\n",
       "<table border=\"1\" class=\"dataframe\">\n",
       "  <thead>\n",
       "    <tr style=\"text-align: right;\">\n",
       "      <th></th>\n",
       "      <th>RESPID</th>\n",
       "      <th>Q1.1</th>\n",
       "      <th>Q1.2</th>\n",
       "      <th>Q1.3</th>\n",
       "      <th>Q1.4</th>\n",
       "      <th>Q1.5</th>\n",
       "      <th>Q1.6</th>\n",
       "      <th>Q1.7</th>\n",
       "      <th>Q1.8</th>\n",
       "      <th>Q1.9</th>\n",
       "      <th>...</th>\n",
       "      <th>Q16.21</th>\n",
       "      <th>Q16.22</th>\n",
       "      <th>Q16.23</th>\n",
       "      <th>Q16.24</th>\n",
       "      <th>Q16.25</th>\n",
       "      <th>Q16.26</th>\n",
       "      <th>Q16.27</th>\n",
       "      <th>Q17</th>\n",
       "      <th>Q18</th>\n",
       "      <th>mean</th>\n",
       "    </tr>\n",
       "  </thead>\n",
       "  <tbody>\n",
       "    <tr>\n",
       "      <th>0</th>\n",
       "      <td>23822</td>\n",
       "      <td>5</td>\n",
       "      <td>1</td>\n",
       "      <td>5</td>\n",
       "      <td>5</td>\n",
       "      <td>5</td>\n",
       "      <td>5</td>\n",
       "      <td>5</td>\n",
       "      <td>3</td>\n",
       "      <td>5</td>\n",
       "      <td>...</td>\n",
       "      <td>4</td>\n",
       "      <td>4</td>\n",
       "      <td>4</td>\n",
       "      <td>5</td>\n",
       "      <td>4</td>\n",
       "      <td>4</td>\n",
       "      <td>4</td>\n",
       "      <td>0</td>\n",
       "      <td>1</td>\n",
       "      <td>6.617284</td>\n",
       "    </tr>\n",
       "    <tr>\n",
       "      <th>1</th>\n",
       "      <td>224795</td>\n",
       "      <td>3</td>\n",
       "      <td>2</td>\n",
       "      <td>4</td>\n",
       "      <td>4</td>\n",
       "      <td>4</td>\n",
       "      <td>4</td>\n",
       "      <td>5</td>\n",
       "      <td>3</td>\n",
       "      <td>4</td>\n",
       "      <td>...</td>\n",
       "      <td>3</td>\n",
       "      <td>3</td>\n",
       "      <td>4</td>\n",
       "      <td>3</td>\n",
       "      <td>3</td>\n",
       "      <td>3</td>\n",
       "      <td>3</td>\n",
       "      <td>1</td>\n",
       "      <td>1</td>\n",
       "      <td>4.567901</td>\n",
       "    </tr>\n",
       "    <tr>\n",
       "      <th>2</th>\n",
       "      <td>20952</td>\n",
       "      <td>3</td>\n",
       "      <td>1</td>\n",
       "      <td>4</td>\n",
       "      <td>4</td>\n",
       "      <td>5</td>\n",
       "      <td>4</td>\n",
       "      <td>4</td>\n",
       "      <td>2</td>\n",
       "      <td>4</td>\n",
       "      <td>...</td>\n",
       "      <td>3</td>\n",
       "      <td>3</td>\n",
       "      <td>5</td>\n",
       "      <td>2</td>\n",
       "      <td>4</td>\n",
       "      <td>3</td>\n",
       "      <td>5</td>\n",
       "      <td>1</td>\n",
       "      <td>0</td>\n",
       "      <td>4.839506</td>\n",
       "    </tr>\n",
       "    <tr>\n",
       "      <th>3</th>\n",
       "      <td>5612</td>\n",
       "      <td>5</td>\n",
       "      <td>2</td>\n",
       "      <td>3</td>\n",
       "      <td>4</td>\n",
       "      <td>5</td>\n",
       "      <td>5</td>\n",
       "      <td>3</td>\n",
       "      <td>3</td>\n",
       "      <td>3</td>\n",
       "      <td>...</td>\n",
       "      <td>4</td>\n",
       "      <td>4</td>\n",
       "      <td>4</td>\n",
       "      <td>2</td>\n",
       "      <td>5</td>\n",
       "      <td>5</td>\n",
       "      <td>4</td>\n",
       "      <td>1</td>\n",
       "      <td>0</td>\n",
       "      <td>4.876543</td>\n",
       "    </tr>\n",
       "    <tr>\n",
       "      <th>4</th>\n",
       "      <td>15016</td>\n",
       "      <td>4</td>\n",
       "      <td>2</td>\n",
       "      <td>4</td>\n",
       "      <td>5</td>\n",
       "      <td>5</td>\n",
       "      <td>4</td>\n",
       "      <td>5</td>\n",
       "      <td>4</td>\n",
       "      <td>5</td>\n",
       "      <td>...</td>\n",
       "      <td>4</td>\n",
       "      <td>5</td>\n",
       "      <td>5</td>\n",
       "      <td>3</td>\n",
       "      <td>4</td>\n",
       "      <td>5</td>\n",
       "      <td>4</td>\n",
       "      <td>0</td>\n",
       "      <td>0</td>\n",
       "      <td>4.703704</td>\n",
       "    </tr>\n",
       "  </tbody>\n",
       "</table>\n",
       "<p>5 rows × 83 columns</p>\n",
       "</div>"
      ],
      "text/plain": [
       "   RESPID  Q1.1  Q1.2  Q1.3  Q1.4  Q1.5  Q1.6  Q1.7  Q1.8  Q1.9  ...  Q16.21  \\\n",
       "0   23822     5     1     5     5     5     5     5     3     5  ...       4   \n",
       "1  224795     3     2     4     4     4     4     5     3     4  ...       3   \n",
       "2   20952     3     1     4     4     5     4     4     2     4  ...       3   \n",
       "3    5612     5     2     3     4     5     5     3     3     3  ...       4   \n",
       "4   15016     4     2     4     5     5     4     5     4     5  ...       4   \n",
       "\n",
       "   Q16.22  Q16.23  Q16.24  Q16.25  Q16.26  Q16.27  Q17  Q18      mean  \n",
       "0       4       4       5       4       4       4    0    1  6.617284  \n",
       "1       3       4       3       3       3       3    1    1  4.567901  \n",
       "2       3       5       2       4       3       5    1    0  4.839506  \n",
       "3       4       4       2       5       5       4    1    0  4.876543  \n",
       "4       5       5       3       4       5       4    0    0  4.703704  \n",
       "\n",
       "[5 rows x 83 columns]"
      ]
     },
     "execution_count": 2,
     "metadata": {},
     "output_type": "execute_result"
    }
   ],
   "source": [
    "data['mean'] = data.iloc[:,1:].mean(axis=1)\n",
    "data.head()"
   ]
  },
  {
   "cell_type": "markdown",
   "id": "2f91febf",
   "metadata": {},
   "source": [
    "### 축소된 data를 median값으로 2분할 ( median보다 크면 1 작으면 0 ) - 여기서 좋은 꼼수가 필요."
   ]
  },
  {
   "cell_type": "code",
   "execution_count": 3,
   "id": "23b623f6",
   "metadata": {},
   "outputs": [
    {
     "data": {
      "text/plain": [
       "0    1\n",
       "1    1\n",
       "2    1\n",
       "3    1\n",
       "4    1\n",
       "Name: mean, dtype: int64"
      ]
     },
     "execution_count": 3,
     "metadata": {},
     "output_type": "execute_result"
    }
   ],
   "source": [
    "m = data['mean'].median()\n",
    "data['mean'] = data['mean'].apply(lambda x: 1 if x>m else 0)\n",
    "data['mean'].head()"
   ]
  },
  {
   "cell_type": "markdown",
   "id": "f536616c",
   "metadata": {},
   "source": [
    "### 해당 값을 model에 적용"
   ]
  },
  {
   "cell_type": "markdown",
   "id": "0ce9bfe0",
   "metadata": {},
   "source": [
    "#### silhouette score는 당연히 1.0"
   ]
  },
  {
   "cell_type": "code",
   "execution_count": 14,
   "id": "c79cdb8f",
   "metadata": {},
   "outputs": [
    {
     "data": {
      "text/plain": [
       "1.0"
      ]
     },
     "execution_count": 14,
     "metadata": {},
     "output_type": "execute_result"
    }
   ],
   "source": [
    "kmeans = KMeans(n_clusters=2, random_state=1422)\n",
    "kmeans.fit(data[['mean']])\n",
    "clusters = kmeans.predict(data[['mean']])\n",
    "score = silhouette_score(data[['mean']], clusters)\n",
    "score"
   ]
  },
  {
   "cell_type": "markdown",
   "id": "2d621df3",
   "metadata": {},
   "source": [
    "#### 표준편차점수 계산하기"
   ]
  },
  {
   "cell_type": "markdown",
   "id": "076916f2",
   "metadata": {},
   "source": [
    "- 각 군집별 개수를 통해 구합니당"
   ]
  },
  {
   "cell_type": "code",
   "execution_count": 8,
   "id": "8a1e57bf",
   "metadata": {},
   "outputs": [
    {
     "data": {
      "text/plain": [
       "0    1421\n",
       "1    1392\n",
       "dtype: int64"
      ]
     },
     "execution_count": 8,
     "metadata": {},
     "output_type": "execute_result"
    }
   ],
   "source": [
    "nums = pd.Series(clusters).value_counts()\n",
    "nums"
   ]
  },
  {
   "cell_type": "code",
   "execution_count": null,
   "id": "d13a071e",
   "metadata": {},
   "outputs": [],
   "source": []
  },
  {
   "cell_type": "markdown",
   "id": "30da55c6",
   "metadata": {},
   "source": [
    "- 엄IU의 수식에 따라 구해봅니다."
   ]
  },
  {
   "cell_type": "code",
   "execution_count": 52,
   "id": "cc6287b7",
   "metadata": {},
   "outputs": [],
   "source": [
    "def sigmoid(x):\n",
    "    return 1/(1+np.exp(-x))"
   ]
  },
  {
   "cell_type": "code",
   "execution_count": 53,
   "id": "80cea3eb",
   "metadata": {},
   "outputs": [
    {
     "name": "stdout",
     "output_type": "stream",
     "text": [
      "표준편차는           0.372677996249965\n",
      "거기에 로그 씌운거는 -0.9870405130110047\n",
      "최종 표준편차 점수는 0.27149702790318514\n"
     ]
    }
   ],
   "source": [
    "print(f\"표준편차는           {np.std(nums)}\")\n",
    "print(f\"거기에 로그 씌운거는 {np.log(np.std(nums))}\")\n",
    "print(f\"최종 표준편차 점수는 {sigmoid(np.log(np.std(nums)))}\")"
   ]
  },
  {
   "cell_type": "markdown",
   "id": "35ee1794",
   "metadata": {},
   "source": [
    "#### 최종 점수"
   ]
  },
  {
   "cell_type": "code",
   "execution_count": 54,
   "id": "653b89e0",
   "metadata": {},
   "outputs": [
    {
     "name": "stdout",
     "output_type": "stream",
     "text": [
      "최종 점수는 0.7285029720968148\n"
     ]
    }
   ],
   "source": [
    "print(f'최종 점수는 {score-sigmoid(np.log(np.std(nums)))}')"
   ]
  }
 ],
 "metadata": {
  "kernelspec": {
   "display_name": "data",
   "language": "python",
   "name": "data"
  },
  "language_info": {
   "codemirror_mode": {
    "name": "ipython",
    "version": 3
   },
   "file_extension": ".py",
   "mimetype": "text/x-python",
   "name": "python",
   "nbconvert_exporter": "python",
   "pygments_lexer": "ipython3",
   "version": "3.8.10"
  },
  "toc": {
   "base_numbering": 1,
   "nav_menu": {},
   "number_sections": true,
   "sideBar": true,
   "skip_h1_title": false,
   "title_cell": "Table of Contents",
   "title_sidebar": "Contents",
   "toc_cell": false,
   "toc_position": {},
   "toc_section_display": true,
   "toc_window_display": true
  }
 },
 "nbformat": 4,
 "nbformat_minor": 5
}
