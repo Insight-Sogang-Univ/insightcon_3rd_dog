{
 "cells": [
  {
   "cell_type": "code",
   "execution_count": 2,
   "metadata": {
    "ExecuteTime": {
     "end_time": "2021-11-20T12:38:35.358343Z",
     "start_time": "2021-11-20T12:38:35.258608Z"
    }
   },
   "outputs": [
    {
     "data": {
      "text/html": [
       "<div>\n",
       "<style scoped>\n",
       "    .dataframe tbody tr th:only-of-type {\n",
       "        vertical-align: middle;\n",
       "    }\n",
       "\n",
       "    .dataframe tbody tr th {\n",
       "        vertical-align: top;\n",
       "    }\n",
       "\n",
       "    .dataframe thead th {\n",
       "        text-align: right;\n",
       "    }\n",
       "</style>\n",
       "<table border=\"1\" class=\"dataframe\">\n",
       "  <thead>\n",
       "    <tr style=\"text-align: right;\">\n",
       "      <th></th>\n",
       "      <th>RESPID</th>\n",
       "      <th>Q1.1</th>\n",
       "      <th>Q1.2</th>\n",
       "      <th>Q1.3</th>\n",
       "      <th>Q1.4</th>\n",
       "      <th>Q1.5</th>\n",
       "      <th>Q1.6</th>\n",
       "      <th>Q1.7</th>\n",
       "      <th>Q1.8</th>\n",
       "      <th>Q1.9</th>\n",
       "      <th>...</th>\n",
       "      <th>Q16.20</th>\n",
       "      <th>Q16.21</th>\n",
       "      <th>Q16.22</th>\n",
       "      <th>Q16.23</th>\n",
       "      <th>Q16.24</th>\n",
       "      <th>Q16.25</th>\n",
       "      <th>Q16.26</th>\n",
       "      <th>Q16.27</th>\n",
       "      <th>Q17</th>\n",
       "      <th>Q18</th>\n",
       "    </tr>\n",
       "  </thead>\n",
       "  <tbody>\n",
       "    <tr>\n",
       "      <th>0</th>\n",
       "      <td>23822</td>\n",
       "      <td>5</td>\n",
       "      <td>1</td>\n",
       "      <td>5</td>\n",
       "      <td>5</td>\n",
       "      <td>5</td>\n",
       "      <td>5</td>\n",
       "      <td>5</td>\n",
       "      <td>3</td>\n",
       "      <td>5</td>\n",
       "      <td>...</td>\n",
       "      <td>4</td>\n",
       "      <td>4</td>\n",
       "      <td>4</td>\n",
       "      <td>4</td>\n",
       "      <td>5</td>\n",
       "      <td>4</td>\n",
       "      <td>4</td>\n",
       "      <td>4</td>\n",
       "      <td>0</td>\n",
       "      <td>1</td>\n",
       "    </tr>\n",
       "    <tr>\n",
       "      <th>1</th>\n",
       "      <td>224795</td>\n",
       "      <td>3</td>\n",
       "      <td>2</td>\n",
       "      <td>4</td>\n",
       "      <td>4</td>\n",
       "      <td>4</td>\n",
       "      <td>4</td>\n",
       "      <td>5</td>\n",
       "      <td>3</td>\n",
       "      <td>4</td>\n",
       "      <td>...</td>\n",
       "      <td>4</td>\n",
       "      <td>3</td>\n",
       "      <td>3</td>\n",
       "      <td>4</td>\n",
       "      <td>3</td>\n",
       "      <td>3</td>\n",
       "      <td>3</td>\n",
       "      <td>3</td>\n",
       "      <td>1</td>\n",
       "      <td>1</td>\n",
       "    </tr>\n",
       "    <tr>\n",
       "      <th>2</th>\n",
       "      <td>20952</td>\n",
       "      <td>3</td>\n",
       "      <td>1</td>\n",
       "      <td>4</td>\n",
       "      <td>4</td>\n",
       "      <td>5</td>\n",
       "      <td>4</td>\n",
       "      <td>4</td>\n",
       "      <td>2</td>\n",
       "      <td>4</td>\n",
       "      <td>...</td>\n",
       "      <td>5</td>\n",
       "      <td>3</td>\n",
       "      <td>3</td>\n",
       "      <td>5</td>\n",
       "      <td>2</td>\n",
       "      <td>4</td>\n",
       "      <td>3</td>\n",
       "      <td>5</td>\n",
       "      <td>1</td>\n",
       "      <td>0</td>\n",
       "    </tr>\n",
       "    <tr>\n",
       "      <th>3</th>\n",
       "      <td>5612</td>\n",
       "      <td>5</td>\n",
       "      <td>2</td>\n",
       "      <td>3</td>\n",
       "      <td>4</td>\n",
       "      <td>5</td>\n",
       "      <td>5</td>\n",
       "      <td>3</td>\n",
       "      <td>3</td>\n",
       "      <td>3</td>\n",
       "      <td>...</td>\n",
       "      <td>4</td>\n",
       "      <td>4</td>\n",
       "      <td>4</td>\n",
       "      <td>4</td>\n",
       "      <td>2</td>\n",
       "      <td>5</td>\n",
       "      <td>5</td>\n",
       "      <td>4</td>\n",
       "      <td>1</td>\n",
       "      <td>0</td>\n",
       "    </tr>\n",
       "    <tr>\n",
       "      <th>4</th>\n",
       "      <td>15016</td>\n",
       "      <td>4</td>\n",
       "      <td>2</td>\n",
       "      <td>4</td>\n",
       "      <td>5</td>\n",
       "      <td>5</td>\n",
       "      <td>4</td>\n",
       "      <td>5</td>\n",
       "      <td>4</td>\n",
       "      <td>5</td>\n",
       "      <td>...</td>\n",
       "      <td>4</td>\n",
       "      <td>4</td>\n",
       "      <td>5</td>\n",
       "      <td>5</td>\n",
       "      <td>3</td>\n",
       "      <td>4</td>\n",
       "      <td>5</td>\n",
       "      <td>4</td>\n",
       "      <td>0</td>\n",
       "      <td>0</td>\n",
       "    </tr>\n",
       "  </tbody>\n",
       "</table>\n",
       "<p>5 rows × 82 columns</p>\n",
       "</div>"
      ],
      "text/plain": [
       "   RESPID  Q1.1  Q1.2  Q1.3  Q1.4  Q1.5  Q1.6  Q1.7  Q1.8  Q1.9  ...  Q16.20  \\\n",
       "0   23822     5     1     5     5     5     5     5     3     5  ...       4   \n",
       "1  224795     3     2     4     4     4     4     5     3     4  ...       4   \n",
       "2   20952     3     1     4     4     5     4     4     2     4  ...       5   \n",
       "3    5612     5     2     3     4     5     5     3     3     3  ...       4   \n",
       "4   15016     4     2     4     5     5     4     5     4     5  ...       4   \n",
       "\n",
       "   Q16.21  Q16.22  Q16.23  Q16.24  Q16.25  Q16.26  Q16.27  Q17  Q18  \n",
       "0       4       4       4       5       4       4       4    0    1  \n",
       "1       3       3       4       3       3       3       3    1    1  \n",
       "2       3       3       5       2       4       3       5    1    0  \n",
       "3       4       4       4       2       5       5       4    1    0  \n",
       "4       4       5       5       3       4       5       4    0    0  \n",
       "\n",
       "[5 rows x 82 columns]"
      ]
     },
     "execution_count": 2,
     "metadata": {},
     "output_type": "execute_result"
    }
   ],
   "source": [
    "from factor_analyzer import FactorAnalyzer\n",
    "from sklearn.preprocessing import scale\n",
    "from sklearn.cluster import KMeans\n",
    "from sklearn.decomposition import PCA\n",
    "from sklearn.metrics import silhouette_samples, silhouette_score\n",
    "from sklearn.preprocessing import StandardScaler\n",
    "from sklearn.mixture import GaussianMixture\n",
    "import matplotlib.pyplot as plt\n",
    "import seaborn as sns\n",
    "import numpy as np\n",
    "import pandas as pd\n",
    "import matplotlib.cm as cm\n",
    "import math\n",
    "\n",
    "data = pd.read_csv('인사이콘3_Data.csv')\n",
    "data.head()"
   ]
  },
  {
   "cell_type": "code",
   "execution_count": 3,
   "metadata": {
    "ExecuteTime": {
     "end_time": "2021-11-20T12:38:42.927874Z",
     "start_time": "2021-11-20T12:38:42.846056Z"
    }
   },
   "outputs": [
    {
     "data": {
      "text/html": [
       "<div>\n",
       "<style scoped>\n",
       "    .dataframe tbody tr th:only-of-type {\n",
       "        vertical-align: middle;\n",
       "    }\n",
       "\n",
       "    .dataframe tbody tr th {\n",
       "        vertical-align: top;\n",
       "    }\n",
       "\n",
       "    .dataframe thead th {\n",
       "        text-align: right;\n",
       "    }\n",
       "</style>\n",
       "<table border=\"1\" class=\"dataframe\">\n",
       "  <thead>\n",
       "    <tr style=\"text-align: right;\">\n",
       "      <th></th>\n",
       "      <th>Q1.1</th>\n",
       "      <th>Q1.2</th>\n",
       "      <th>Q1.3</th>\n",
       "      <th>Q1.4</th>\n",
       "      <th>Q1.5</th>\n",
       "      <th>Q1.6</th>\n",
       "      <th>Q1.7</th>\n",
       "      <th>Q1.8</th>\n",
       "      <th>Q1.9</th>\n",
       "      <th>Q1.10</th>\n",
       "      <th>...</th>\n",
       "      <th>Q16.20</th>\n",
       "      <th>Q16.21</th>\n",
       "      <th>Q16.22</th>\n",
       "      <th>Q16.23</th>\n",
       "      <th>Q16.24</th>\n",
       "      <th>Q16.25</th>\n",
       "      <th>Q16.26</th>\n",
       "      <th>Q16.27</th>\n",
       "      <th>Q17</th>\n",
       "      <th>Q18</th>\n",
       "    </tr>\n",
       "  </thead>\n",
       "  <tbody>\n",
       "    <tr>\n",
       "      <th>0</th>\n",
       "      <td>1.186104</td>\n",
       "      <td>-1.861074</td>\n",
       "      <td>1.846000</td>\n",
       "      <td>1.353462</td>\n",
       "      <td>1.560841</td>\n",
       "      <td>1.268743</td>\n",
       "      <td>1.477733</td>\n",
       "      <td>-0.903108</td>\n",
       "      <td>1.964225</td>\n",
       "      <td>0.679611</td>\n",
       "      <td>...</td>\n",
       "      <td>0.038515</td>\n",
       "      <td>0.115106</td>\n",
       "      <td>0.097700</td>\n",
       "      <td>0.015707</td>\n",
       "      <td>1.826135</td>\n",
       "      <td>0.406008</td>\n",
       "      <td>0.137651</td>\n",
       "      <td>0.439300</td>\n",
       "      <td>-0.709559</td>\n",
       "      <td>1.003205</td>\n",
       "    </tr>\n",
       "    <tr>\n",
       "      <th>1</th>\n",
       "      <td>-1.254650</td>\n",
       "      <td>-0.874417</td>\n",
       "      <td>0.866411</td>\n",
       "      <td>0.133568</td>\n",
       "      <td>0.482588</td>\n",
       "      <td>0.055219</td>\n",
       "      <td>1.477733</td>\n",
       "      <td>-0.903108</td>\n",
       "      <td>1.034968</td>\n",
       "      <td>0.679611</td>\n",
       "      <td>...</td>\n",
       "      <td>0.038515</td>\n",
       "      <td>-1.228438</td>\n",
       "      <td>-1.290331</td>\n",
       "      <td>0.015707</td>\n",
       "      <td>-0.336778</td>\n",
       "      <td>-0.739529</td>\n",
       "      <td>-1.188421</td>\n",
       "      <td>-0.740977</td>\n",
       "      <td>1.409326</td>\n",
       "      <td>1.003205</td>\n",
       "    </tr>\n",
       "    <tr>\n",
       "      <th>2</th>\n",
       "      <td>-1.254650</td>\n",
       "      <td>-1.861074</td>\n",
       "      <td>0.866411</td>\n",
       "      <td>0.133568</td>\n",
       "      <td>1.560841</td>\n",
       "      <td>0.055219</td>\n",
       "      <td>0.362994</td>\n",
       "      <td>-2.128008</td>\n",
       "      <td>1.034968</td>\n",
       "      <td>-0.393800</td>\n",
       "      <td>...</td>\n",
       "      <td>1.445548</td>\n",
       "      <td>-1.228438</td>\n",
       "      <td>-1.290331</td>\n",
       "      <td>1.441031</td>\n",
       "      <td>-1.418234</td>\n",
       "      <td>0.406008</td>\n",
       "      <td>-1.188421</td>\n",
       "      <td>1.619576</td>\n",
       "      <td>1.409326</td>\n",
       "      <td>-0.996806</td>\n",
       "    </tr>\n",
       "    <tr>\n",
       "      <th>3</th>\n",
       "      <td>1.186104</td>\n",
       "      <td>-0.874417</td>\n",
       "      <td>-0.113177</td>\n",
       "      <td>0.133568</td>\n",
       "      <td>1.560841</td>\n",
       "      <td>1.268743</td>\n",
       "      <td>-0.751746</td>\n",
       "      <td>-0.903108</td>\n",
       "      <td>0.105710</td>\n",
       "      <td>0.679611</td>\n",
       "      <td>...</td>\n",
       "      <td>0.038515</td>\n",
       "      <td>0.115106</td>\n",
       "      <td>0.097700</td>\n",
       "      <td>0.015707</td>\n",
       "      <td>-1.418234</td>\n",
       "      <td>1.551545</td>\n",
       "      <td>1.463723</td>\n",
       "      <td>0.439300</td>\n",
       "      <td>1.409326</td>\n",
       "      <td>-0.996806</td>\n",
       "    </tr>\n",
       "    <tr>\n",
       "      <th>4</th>\n",
       "      <td>-0.034273</td>\n",
       "      <td>-0.874417</td>\n",
       "      <td>0.866411</td>\n",
       "      <td>1.353462</td>\n",
       "      <td>1.560841</td>\n",
       "      <td>0.055219</td>\n",
       "      <td>1.477733</td>\n",
       "      <td>0.321792</td>\n",
       "      <td>1.964225</td>\n",
       "      <td>0.679611</td>\n",
       "      <td>...</td>\n",
       "      <td>0.038515</td>\n",
       "      <td>0.115106</td>\n",
       "      <td>1.485731</td>\n",
       "      <td>1.441031</td>\n",
       "      <td>-0.336778</td>\n",
       "      <td>0.406008</td>\n",
       "      <td>1.463723</td>\n",
       "      <td>0.439300</td>\n",
       "      <td>-0.709559</td>\n",
       "      <td>-0.996806</td>\n",
       "    </tr>\n",
       "  </tbody>\n",
       "</table>\n",
       "<p>5 rows × 81 columns</p>\n",
       "</div>"
      ],
      "text/plain": [
       "       Q1.1      Q1.2      Q1.3      Q1.4      Q1.5      Q1.6      Q1.7  \\\n",
       "0  1.186104 -1.861074  1.846000  1.353462  1.560841  1.268743  1.477733   \n",
       "1 -1.254650 -0.874417  0.866411  0.133568  0.482588  0.055219  1.477733   \n",
       "2 -1.254650 -1.861074  0.866411  0.133568  1.560841  0.055219  0.362994   \n",
       "3  1.186104 -0.874417 -0.113177  0.133568  1.560841  1.268743 -0.751746   \n",
       "4 -0.034273 -0.874417  0.866411  1.353462  1.560841  0.055219  1.477733   \n",
       "\n",
       "       Q1.8      Q1.9     Q1.10  ...    Q16.20    Q16.21    Q16.22    Q16.23  \\\n",
       "0 -0.903108  1.964225  0.679611  ...  0.038515  0.115106  0.097700  0.015707   \n",
       "1 -0.903108  1.034968  0.679611  ...  0.038515 -1.228438 -1.290331  0.015707   \n",
       "2 -2.128008  1.034968 -0.393800  ...  1.445548 -1.228438 -1.290331  1.441031   \n",
       "3 -0.903108  0.105710  0.679611  ...  0.038515  0.115106  0.097700  0.015707   \n",
       "4  0.321792  1.964225  0.679611  ...  0.038515  0.115106  1.485731  1.441031   \n",
       "\n",
       "     Q16.24    Q16.25    Q16.26    Q16.27       Q17       Q18  \n",
       "0  1.826135  0.406008  0.137651  0.439300 -0.709559  1.003205  \n",
       "1 -0.336778 -0.739529 -1.188421 -0.740977  1.409326  1.003205  \n",
       "2 -1.418234  0.406008 -1.188421  1.619576  1.409326 -0.996806  \n",
       "3 -1.418234  1.551545  1.463723  0.439300  1.409326 -0.996806  \n",
       "4 -0.336778  0.406008  1.463723  0.439300 -0.709559 -0.996806  \n",
       "\n",
       "[5 rows x 81 columns]"
      ]
     },
     "execution_count": 3,
     "metadata": {},
     "output_type": "execute_result"
    }
   ],
   "source": [
    "#데이터 정규화\n",
    "scaler = StandardScaler()\n",
    "data = pd.DataFrame(scaler.fit_transform(data.iloc[:,1:]),columns=data.columns[1:])\n",
    "data.head()"
   ]
  },
  {
   "cell_type": "markdown",
   "metadata": {},
   "source": [
    "# Part 2"
   ]
  },
  {
   "cell_type": "code",
   "execution_count": 47,
   "metadata": {
    "ExecuteTime": {
     "end_time": "2021-11-20T13:11:01.573482Z",
     "start_time": "2021-11-20T13:11:01.531957Z"
    }
   },
   "outputs": [
    {
     "name": "stderr",
     "output_type": "stream",
     "text": [
      "C:\\Anaconda3\\lib\\site-packages\\pandas\\core\\frame.py:4163: SettingWithCopyWarning: \n",
      "A value is trying to be set on a copy of a slice from a DataFrame\n",
      "\n",
      "See the caveats in the documentation: https://pandas.pydata.org/pandas-docs/stable/user_guide/indexing.html#returning-a-view-versus-a-copy\n",
      "  return super().drop(\n"
     ]
    },
    {
     "data": {
      "text/html": [
       "<div>\n",
       "<style scoped>\n",
       "    .dataframe tbody tr th:only-of-type {\n",
       "        vertical-align: middle;\n",
       "    }\n",
       "\n",
       "    .dataframe tbody tr th {\n",
       "        vertical-align: top;\n",
       "    }\n",
       "\n",
       "    .dataframe thead th {\n",
       "        text-align: right;\n",
       "    }\n",
       "</style>\n",
       "<table border=\"1\" class=\"dataframe\">\n",
       "  <thead>\n",
       "    <tr style=\"text-align: right;\">\n",
       "      <th></th>\n",
       "      <th>Q2</th>\n",
       "      <th>Q2.Cluster</th>\n",
       "      <th>Q4</th>\n",
       "      <th>Q5</th>\n",
       "      <th>Q6</th>\n",
       "      <th>Q7.1</th>\n",
       "      <th>Q7.2</th>\n",
       "      <th>Q7.3</th>\n",
       "      <th>Q7.4</th>\n",
       "      <th>Q8</th>\n",
       "      <th>Q9.1</th>\n",
       "      <th>Q9.2</th>\n",
       "      <th>Q9.3</th>\n",
       "      <th>Q9.4</th>\n",
       "      <th>Q9.5</th>\n",
       "      <th>Q10</th>\n",
       "    </tr>\n",
       "  </thead>\n",
       "  <tbody>\n",
       "    <tr>\n",
       "      <th>0</th>\n",
       "      <td>0.125422</td>\n",
       "      <td>0.587613</td>\n",
       "      <td>3.074166</td>\n",
       "      <td>1.780707</td>\n",
       "      <td>6.293197</td>\n",
       "      <td>-0.208793</td>\n",
       "      <td>-0.898219</td>\n",
       "      <td>-0.709451</td>\n",
       "      <td>-0.768566</td>\n",
       "      <td>0.859211</td>\n",
       "      <td>-0.460576</td>\n",
       "      <td>0.557970</td>\n",
       "      <td>0.293257</td>\n",
       "      <td>0.689225</td>\n",
       "      <td>0.471260</td>\n",
       "      <td>1.218726</td>\n",
       "    </tr>\n",
       "    <tr>\n",
       "      <th>1</th>\n",
       "      <td>0.125422</td>\n",
       "      <td>0.587613</td>\n",
       "      <td>-0.397732</td>\n",
       "      <td>3.075726</td>\n",
       "      <td>0.203237</td>\n",
       "      <td>-0.208793</td>\n",
       "      <td>0.892490</td>\n",
       "      <td>0.175161</td>\n",
       "      <td>1.510797</td>\n",
       "      <td>-0.387288</td>\n",
       "      <td>-0.460576</td>\n",
       "      <td>0.557970</td>\n",
       "      <td>0.293257</td>\n",
       "      <td>1.544071</td>\n",
       "      <td>0.471260</td>\n",
       "      <td>-0.368565</td>\n",
       "    </tr>\n",
       "    <tr>\n",
       "      <th>2</th>\n",
       "      <td>0.125422</td>\n",
       "      <td>0.587613</td>\n",
       "      <td>0.470243</td>\n",
       "      <td>3.075726</td>\n",
       "      <td>-0.171529</td>\n",
       "      <td>-1.105488</td>\n",
       "      <td>-1.793573</td>\n",
       "      <td>0.175161</td>\n",
       "      <td>0.371116</td>\n",
       "      <td>0.859211</td>\n",
       "      <td>-0.460576</td>\n",
       "      <td>0.557970</td>\n",
       "      <td>0.293257</td>\n",
       "      <td>0.689225</td>\n",
       "      <td>0.471260</td>\n",
       "      <td>-0.368565</td>\n",
       "    </tr>\n",
       "    <tr>\n",
       "      <th>3</th>\n",
       "      <td>0.125422</td>\n",
       "      <td>0.587613</td>\n",
       "      <td>0.904230</td>\n",
       "      <td>3.075726</td>\n",
       "      <td>-0.077838</td>\n",
       "      <td>0.687902</td>\n",
       "      <td>-0.002865</td>\n",
       "      <td>-0.709451</td>\n",
       "      <td>0.371116</td>\n",
       "      <td>-0.387288</td>\n",
       "      <td>0.342648</td>\n",
       "      <td>-1.329666</td>\n",
       "      <td>0.293257</td>\n",
       "      <td>-0.165621</td>\n",
       "      <td>-1.434784</td>\n",
       "      <td>-0.368565</td>\n",
       "    </tr>\n",
       "    <tr>\n",
       "      <th>4</th>\n",
       "      <td>0.125422</td>\n",
       "      <td>0.587613</td>\n",
       "      <td>0.470243</td>\n",
       "      <td>3.075726</td>\n",
       "      <td>0.109546</td>\n",
       "      <td>-1.105488</td>\n",
       "      <td>-0.002865</td>\n",
       "      <td>-0.709451</td>\n",
       "      <td>-0.768566</td>\n",
       "      <td>-0.387288</td>\n",
       "      <td>-0.460576</td>\n",
       "      <td>-0.385848</td>\n",
       "      <td>-0.747009</td>\n",
       "      <td>-0.165621</td>\n",
       "      <td>-0.481762</td>\n",
       "      <td>-0.368565</td>\n",
       "    </tr>\n",
       "  </tbody>\n",
       "</table>\n",
       "</div>"
      ],
      "text/plain": [
       "         Q2  Q2.Cluster        Q4        Q5        Q6      Q7.1      Q7.2  \\\n",
       "0  0.125422    0.587613  3.074166  1.780707  6.293197 -0.208793 -0.898219   \n",
       "1  0.125422    0.587613 -0.397732  3.075726  0.203237 -0.208793  0.892490   \n",
       "2  0.125422    0.587613  0.470243  3.075726 -0.171529 -1.105488 -1.793573   \n",
       "3  0.125422    0.587613  0.904230  3.075726 -0.077838  0.687902 -0.002865   \n",
       "4  0.125422    0.587613  0.470243  3.075726  0.109546 -1.105488 -0.002865   \n",
       "\n",
       "       Q7.3      Q7.4        Q8      Q9.1      Q9.2      Q9.3      Q9.4  \\\n",
       "0 -0.709451 -0.768566  0.859211 -0.460576  0.557970  0.293257  0.689225   \n",
       "1  0.175161  1.510797 -0.387288 -0.460576  0.557970  0.293257  1.544071   \n",
       "2  0.175161  0.371116  0.859211 -0.460576  0.557970  0.293257  0.689225   \n",
       "3 -0.709451  0.371116 -0.387288  0.342648 -1.329666  0.293257 -0.165621   \n",
       "4 -0.709451 -0.768566 -0.387288 -0.460576 -0.385848 -0.747009 -0.165621   \n",
       "\n",
       "       Q9.5       Q10  \n",
       "0  0.471260  1.218726  \n",
       "1  0.471260 -0.368565  \n",
       "2  0.471260 -0.368565  \n",
       "3 -1.434784 -0.368565  \n",
       "4 -0.481762 -0.368565  "
      ]
     },
     "execution_count": 47,
     "metadata": {},
     "output_type": "execute_result"
    }
   ],
   "source": [
    "# Q2 ~ Q10\n",
    "Q2 = data.iloc[:,29:46]\n",
    "Q2.drop('Q3', axis=1, inplace=True)\n",
    "Q2.head()"
   ]
  },
  {
   "cell_type": "markdown",
   "metadata": {},
   "source": [
    "## Choose the number of the factors"
   ]
  },
  {
   "cell_type": "code",
   "execution_count": 48,
   "metadata": {
    "ExecuteTime": {
     "end_time": "2021-11-20T13:11:01.931940Z",
     "start_time": "2021-11-20T13:11:01.901009Z"
    },
    "scrolled": true
   },
   "outputs": [
    {
     "name": "stdout",
     "output_type": "stream",
     "text": [
      "Eigenvectors \n",
      "[[-1.78597719e-02 -5.83842758e-01  1.83595819e-01  1.96024944e-01\n",
      "  -6.85322913e-01  1.17640924e-01 -5.32537868e-02  3.17786403e-02\n",
      "   3.64060446e-02  5.72284373e-02 -2.11007113e-01 -7.95883923e-02\n",
      "   1.98706011e-02  9.91605599e-02 -1.82908627e-01  1.34424294e-02]\n",
      " [ 1.42665159e-02 -5.90200378e-01  2.49939726e-01  1.58336741e-01\n",
      "   7.08906535e-01  4.72521608e-02  9.71455901e-02 -3.18319766e-03\n",
      "  -5.58621661e-02  5.83276281e-02 -1.41941151e-01 -6.44374092e-02\n",
      "  -1.85761344e-02  5.71727948e-02 -1.22360260e-01  1.68211696e-02]\n",
      " [-1.34269216e-01 -7.80718558e-02 -3.27300710e-01  4.22061577e-01\n",
      "  -8.12417554e-03 -2.37140555e-01  5.29857584e-03  1.76748572e-02\n",
      "  -1.12306426e-01  1.46217003e-01  7.46484739e-02  1.61135498e-01\n",
      "  -6.75683981e-02 -6.94326911e-01 -2.39552929e-01  1.56213223e-01]\n",
      " [-1.68075828e-01 -1.76842407e-01 -3.52495553e-01  1.55273309e-01\n",
      "   1.11196248e-02  5.88576693e-02  1.02373871e-02 -5.26980364e-02\n",
      "  -4.24256211e-02 -1.69422387e-02 -1.28507737e-01  4.53863769e-01\n",
      "   9.10243077e-02  2.97934712e-01  5.18431479e-01  4.41847664e-01]\n",
      " [-1.43062853e-01  2.42978512e-03 -3.37570645e-01  3.89323053e-01\n",
      "   3.44647774e-02 -3.37078794e-01  5.23412690e-02  8.77669002e-03\n",
      "   1.11431090e-01  4.59952493e-02  1.25588129e-01  2.95098445e-02\n",
      "   1.24109097e-01  4.72981408e-01 -1.66425153e-01 -5.46247830e-01]\n",
      " [ 1.38541712e-01 -1.85267120e-01 -4.51163024e-01 -1.29130219e-01\n",
      "   5.28320163e-02  3.97613572e-01  5.83711617e-02 -5.92216422e-02\n",
      "   2.29899288e-01 -5.07140290e-01  1.77293148e-01 -8.36104741e-02\n",
      "   3.58517468e-01 -8.64380319e-02 -2.68851872e-01  4.12464041e-02]\n",
      " [-2.79389848e-01 -4.30963230e-02  3.16804251e-01 -1.00305019e-01\n",
      "   4.35626994e-03 -4.13615353e-01  8.92119813e-03  5.16125903e-02\n",
      "   6.39227482e-01 -1.09631396e-01  2.56821157e-01  1.14596543e-01\n",
      "   1.34504777e-01  1.59601044e-02 -1.06608533e-01  3.26168629e-01]\n",
      " [-2.90601454e-01 -5.47125076e-02  2.04452043e-01 -2.43804377e-01\n",
      "  -3.46560080e-02 -2.04177684e-01  6.72069993e-03 -2.30363684e-01\n",
      "  -3.24333151e-01 -4.36376455e-01 -2.61475105e-01  4.26021531e-01\n",
      "   2.15083644e-01 -1.54750968e-01 -6.45563284e-02 -3.08962182e-01]\n",
      " [-2.69816777e-01 -6.60772539e-02 -2.00612341e-01 -2.24578431e-01\n",
      "  -1.46583299e-02  1.58876582e-01  3.56926825e-01 -3.07256058e-02\n",
      "   2.49909877e-01 -6.84694097e-02 -1.25401470e-01  1.44419802e-01\n",
      "  -7.37669842e-01  1.88358991e-02 -1.25525865e-01 -1.19835391e-01]\n",
      " [-3.25719305e-02 -4.35079536e-01 -7.12690848e-02 -2.50389143e-01\n",
      "  -6.78136584e-02 -1.60826198e-01 -1.16301330e-01 -4.34730834e-02\n",
      "  -1.67690145e-01 -3.14314151e-02  6.28865302e-01 -1.19330139e-01\n",
      "  -1.64064989e-01 -1.23312493e-01  4.11937472e-01 -2.12970076e-01]\n",
      " [ 1.87306716e-01 -1.37754867e-01 -2.08660631e-01 -5.26637431e-01\n",
      "   2.02898900e-02 -9.73959534e-02 -1.77466535e-01  1.68259409e-01\n",
      "  -9.93573791e-02  4.70861915e-01  3.38727689e-02  3.69339510e-01\n",
      "   9.66604644e-02  1.37496497e-01 -3.93052947e-01  5.89005605e-02]\n",
      " [-3.88161553e-01  2.20049837e-02 -3.31924624e-03 -1.02332825e-01\n",
      "  -2.31512679e-04  2.70526610e-01  1.46627287e-01 -5.97186925e-01\n",
      "   1.20847110e-01  5.00283947e-01  4.49170909e-02 -1.23604735e-01\n",
      "   2.94040931e-01 -9.48009405e-02  3.96633772e-02 -8.85589143e-02]\n",
      " [-3.80768964e-01  7.16222464e-02  1.52874892e-02 -5.48897559e-02\n",
      "  -5.86397737e-02 -2.25941794e-02  4.20457671e-01  2.00047062e-01\n",
      "  -5.12082596e-01 -6.13141819e-02  2.45365564e-01 -2.51902439e-01\n",
      "   7.24702406e-02  2.34864827e-01 -2.52133052e-01  3.35043947e-01]\n",
      " [-3.92996112e-01 -7.42158254e-03  1.47077738e-02 -5.51289390e-02\n",
      "   4.55368217e-02  2.87299394e-01 -2.16095644e-02  7.08804000e-01\n",
      "   1.24347911e-01  1.26013094e-01 -8.76693488e-02  2.90314836e-02\n",
      "   2.33082097e-01 -1.98493155e-01  2.11419066e-01 -2.76520466e-01]\n",
      " [-4.31976249e-01  5.92972007e-02 -6.06898908e-02  3.57935431e-02\n",
      "   1.06678502e-01  1.53469080e-01 -7.81042128e-01 -7.84123501e-02\n",
      "  -7.70993018e-02 -1.11719870e-01  9.41615484e-03 -1.46936143e-01\n",
      "  -2.12472309e-01  1.34464961e-01 -1.96248049e-01  1.09382029e-01]\n",
      " [-7.33584471e-02 -1.11445603e-01 -3.46075273e-01 -2.97029880e-01\n",
      "   1.66584214e-02 -4.46499133e-01 -1.12788100e-02  1.50706350e-02\n",
      "   5.81453441e-02 -1.07252263e-02 -4.99369257e-01 -5.31407398e-01\n",
      "   8.07323352e-02 -6.75489368e-02  1.46998695e-01  7.91308026e-02]]\n",
      "\n",
      "Eigenvalues \n",
      "[3.14935371 1.95269228 1.38715914 1.23119569 0.31685462 1.10156282\n",
      " 0.39759792 0.43839449 0.58197367 0.61117219 0.6885248  0.91925934\n",
      " 0.86861108 0.7993969  0.7902711  0.77167013]\n"
     ]
    }
   ],
   "source": [
    "cov_mat = np.cov(Q2.T)\n",
    "\n",
    "eig_vals, eig_vecs = np.linalg.eig(cov_mat)\n",
    "\n",
    "print('Eigenvectors \\n%s' %eig_vecs)\n",
    "print('\\nEigenvalues \\n%s' %eig_vals)"
   ]
  },
  {
   "cell_type": "code",
   "execution_count": 49,
   "metadata": {
    "ExecuteTime": {
     "end_time": "2021-11-20T13:11:02.741197Z",
     "start_time": "2021-11-20T13:11:02.102688Z"
    }
   },
   "outputs": [
    {
     "data": {
      "image/png": "[encoded data removed]",
      "text/plain": [
       "<Figure size 432x288 with 1 Axes>"
      ]
     },
     "metadata": {},
     "output_type": "display_data"
    }
   ],
   "source": [
    "tot = sum(eig_vals)\n",
    "var_exp = [(i / tot)*100 for i in sorted(eig_vals, reverse=True)]\n",
    "cum_var_exp = np.cumsum(var_exp)\n",
    "\n",
    "with plt.style.context('seaborn-whitegrid'):\n",
    "    plt.figure(figsize=(6, 4))\n",
    "    plt.bar(range(len(Q2.columns)), var_exp, alpha=0.5, align='center',\n",
    "            label='individual explained variance')\n",
    "    plt.step(range(len(Q2.columns)), cum_var_exp, where='mid',\n",
    "             label='cumulative explained variance')\n",
    "    plt.ylabel('Explained variance ratio')\n",
    "    plt.xlabel('Principal components')\n",
    "    plt.legend(loc='best')\n",
    "    plt.tight_layout()"
   ]
  },
  {
   "cell_type": "code",
   "execution_count": 50,
   "metadata": {
    "ExecuteTime": {
     "end_time": "2021-11-20T13:11:02.870312Z",
     "start_time": "2021-11-20T13:11:02.857776Z"
    }
   },
   "outputs": [
    {
     "name": "stdout",
     "output_type": "stream",
     "text": [
      "eigenvalue>1인 성분의 개수 5\n"
     ]
    }
   ],
   "source": [
    "print(f'eigenvalue>1인 성분의 개수 {len([val for val in eig_vals if val>1])}')"
   ]
  },
  {
   "cell_type": "code",
   "execution_count": 51,
   "metadata": {
    "ExecuteTime": {
     "end_time": "2021-11-20T13:11:03.460694Z",
     "start_time": "2021-11-20T13:11:02.980180Z"
    }
   },
   "outputs": [
    {
     "data": {
      "text/plain": [
       "FactorAnalyzer(method='ml', n_factors=5, rotation_kwargs={})"
      ]
     },
     "execution_count": 51,
     "metadata": {},
     "output_type": "execute_result"
    }
   ],
   "source": [
    "items = Q2.columns.tolist()\n",
    "fa = FactorAnalyzer(n_factors=5, method=\"ml\", rotation=\"promax\")\n",
    "fa.fit(Q2[items])"
   ]
  },
  {
   "cell_type": "code",
   "execution_count": 52,
   "metadata": {
    "ExecuteTime": {
     "end_time": "2021-11-20T13:11:06.173019Z",
     "start_time": "2021-11-20T13:11:03.577207Z"
    },
    "scrolled": false
   },
   "outputs": [
    {
     "data": {
      "text/plain": [
       "<AxesSubplot:>"
      ]
     },
     "execution_count": 52,
     "metadata": {},
     "output_type": "execute_result"
    },
    {
     "data": {
      "image/png": "[encoded data removed]",
      "text/plain": [
       "<Figure size 432x720 with 2 Axes>"
      ]
     },
     "metadata": {
      "needs_background": "light"
     },
     "output_type": "display_data"
    }
   ],
   "source": [
    "efa_result= pd.DataFrame(fa.loadings_, index=items)\n",
    "plt.figure(figsize=(6,10))\n",
    "sns.heatmap(efa_result, cmap=\"Blues\", annot=True, fmt='.2f')"
   ]
  },
  {
   "cell_type": "code",
   "execution_count": 53,
   "metadata": {
    "ExecuteTime": {
     "end_time": "2021-11-20T13:11:06.310442Z",
     "start_time": "2021-11-20T13:11:06.283530Z"
    }
   },
   "outputs": [
    {
     "name": "stdout",
     "output_type": "stream",
     "text": [
      "Group 0:\n",
      "['Q2', 'Q2.Cluster']\n",
      "Group 1:\n",
      "['Q4', 'Q5', 'Q6', 'Q7.4', 'Q9.3', 'Q9.5']\n",
      "Group 2:\n",
      "['Q9.2', 'Q9.4']\n",
      "Group 3:\n",
      "['Q7.2', 'Q7.3']\n",
      "Group 4:\n",
      "['Q7.1', 'Q8', 'Q9.1', 'Q10']\n"
     ]
    }
   ],
   "source": [
    "groups = [[] for _ in range(5)]\n",
    "for i in range(len(efa_result)):\n",
    "    groups[np.argmax(efa_result.iloc[i])].append(efa_result.index[i])\n",
    "for i, group in enumerate(groups):\n",
    "    print(f'Group {i}:')\n",
    "    print(group)"
   ]
  },
  {
   "cell_type": "code",
   "execution_count": 54,
   "metadata": {
    "ExecuteTime": {
     "end_time": "2021-11-20T13:11:09.788592Z",
     "start_time": "2021-11-20T13:11:06.408319Z"
    },
    "scrolled": true
   },
   "outputs": [
    {
     "name": "stdout",
     "output_type": "stream",
     "text": [
      "Group 0:\n",
      "['Q7.4', 'Q9.3', 'Q9.5']\n",
      "Group 1:\n",
      "['Q2', 'Q2.Cluster']\n",
      "Group 2:\n",
      "['Q9.2', 'Q9.4']\n",
      "Group 3:\n",
      "['Q7.2', 'Q7.3']\n",
      "Group 4:\n",
      "['Q7.1', 'Q8', 'Q9.1', 'Q10']\n",
      "Group 5:\n",
      "['Q4', 'Q5', 'Q6']\n"
     ]
    },
    {
     "data": {
      "image/png": "[encoded data removed]",
      "text/plain": [
       "<Figure size 432x720 with 2 Axes>"
      ]
     },
     "metadata": {
      "needs_background": "light"
     },
     "output_type": "display_data"
    }
   ],
   "source": [
    "items = Q2.columns.tolist()\n",
    "fa = FactorAnalyzer(n_factors=6, method=\"ml\", rotation=\"promax\")\n",
    "fa.fit(Q2[items])\n",
    "\n",
    "efa_result= pd.DataFrame(fa.loadings_, index=items)\n",
    "plt.figure(figsize=(6,10))\n",
    "sns.heatmap(efa_result, cmap=\"Blues\", annot=True, fmt='.2f')\n",
    "\n",
    "groups = [[] for _ in range(6)]\n",
    "for i in range(len(efa_result)):\n",
    "    groups[np.argmax(efa_result.iloc[i])].append(efa_result.index[i])\n",
    "for i, group in enumerate(groups):\n",
    "    print(f'Group {i}:')\n",
    "    print(group)"
   ]
  },
  {
   "cell_type": "code",
   "execution_count": 56,
   "metadata": {
    "ExecuteTime": {
     "end_time": "2021-11-20T13:14:57.666159Z",
     "start_time": "2021-11-20T13:14:56.709495Z"
    }
   },
   "outputs": [
    {
     "data": {
      "image/png": "[encoded data removed]",
      "text/plain": [
       "<Figure size 432x288 with 1 Axes>"
      ]
     },
     "metadata": {
      "needs_background": "light"
     },
     "output_type": "display_data"
    }
   ],
   "source": [
    "x = Q2.copy()\n",
    "fa = FactorAnalyzer(6, method=\"ml\", rotation=\"promax\")\n",
    "fa.fit(x)\n",
    "efa = pd.DataFrame(fa.loadings_, index=x.columns)\n",
    "#Eigenvalue Plotting\n",
    "ev, v = fa.get_eigenvalues()\n",
    "ev\n",
    "plt.plot(range(1,x.shape[1]+1),ev)\n",
    "plt.show()"
   ]
  },
  {
   "cell_type": "code",
   "execution_count": 57,
   "metadata": {
    "ExecuteTime": {
     "end_time": "2021-11-20T13:14:59.939459Z",
     "start_time": "2021-11-20T13:14:59.887550Z"
    },
    "scrolled": false
   },
   "outputs": [
    {
     "data": {
      "text/html": [
       "<div>\n",
       "<style scoped>\n",
       "    .dataframe tbody tr th:only-of-type {\n",
       "        vertical-align: middle;\n",
       "    }\n",
       "\n",
       "    .dataframe tbody tr th {\n",
       "        vertical-align: top;\n",
       "    }\n",
       "\n",
       "    .dataframe thead th {\n",
       "        text-align: right;\n",
       "    }\n",
       "</style>\n",
       "<table border=\"1\" class=\"dataframe\">\n",
       "  <thead>\n",
       "    <tr style=\"text-align: right;\">\n",
       "      <th></th>\n",
       "      <th>Entertaining</th>\n",
       "      <th>Water_Activity</th>\n",
       "      <th>Own</th>\n",
       "      <th>With_Family</th>\n",
       "      <th>Fishing_Alone</th>\n",
       "      <th>Character</th>\n",
       "    </tr>\n",
       "  </thead>\n",
       "  <tbody>\n",
       "    <tr>\n",
       "      <th>0</th>\n",
       "      <td>0.695586</td>\n",
       "      <td>0.646742</td>\n",
       "      <td>0.808924</td>\n",
       "      <td>-0.263064</td>\n",
       "      <td>0.467018</td>\n",
       "      <td>3.418595</td>\n",
       "    </tr>\n",
       "    <tr>\n",
       "      <th>1</th>\n",
       "      <td>0.729948</td>\n",
       "      <td>0.575782</td>\n",
       "      <td>1.468832</td>\n",
       "      <td>0.589595</td>\n",
       "      <td>0.320798</td>\n",
       "      <td>0.769378</td>\n",
       "    </tr>\n",
       "    <tr>\n",
       "      <th>2</th>\n",
       "      <td>0.500458</td>\n",
       "      <td>0.565392</td>\n",
       "      <td>0.712959</td>\n",
       "      <td>-0.333501</td>\n",
       "      <td>0.093020</td>\n",
       "      <td>0.795421</td>\n",
       "    </tr>\n",
       "    <tr>\n",
       "      <th>3</th>\n",
       "      <td>-1.140026</td>\n",
       "      <td>0.586112</td>\n",
       "      <td>-0.215492</td>\n",
       "      <td>-0.616949</td>\n",
       "      <td>0.609455</td>\n",
       "      <td>0.551951</td>\n",
       "    </tr>\n",
       "    <tr>\n",
       "      <th>4</th>\n",
       "      <td>-0.518371</td>\n",
       "      <td>0.424146</td>\n",
       "      <td>-0.264416</td>\n",
       "      <td>-0.131743</td>\n",
       "      <td>-0.342173</td>\n",
       "      <td>0.536141</td>\n",
       "    </tr>\n",
       "  </tbody>\n",
       "</table>\n",
       "</div>"
      ],
      "text/plain": [
       "   Entertaining  Water_Activity       Own  With_Family  Fishing_Alone  \\\n",
       "0      0.695586        0.646742  0.808924    -0.263064       0.467018   \n",
       "1      0.729948        0.575782  1.468832     0.589595       0.320798   \n",
       "2      0.500458        0.565392  0.712959    -0.333501       0.093020   \n",
       "3     -1.140026        0.586112 -0.215492    -0.616949       0.609455   \n",
       "4     -0.518371        0.424146 -0.264416    -0.131743      -0.342173   \n",
       "\n",
       "   Character  \n",
       "0   3.418595  \n",
       "1   0.769378  \n",
       "2   0.795421  \n",
       "3   0.551951  \n",
       "4   0.536141  "
      ]
     },
     "execution_count": 57,
     "metadata": {},
     "output_type": "execute_result"
    }
   ],
   "source": [
    "new_Q2 = pd.DataFrame(fa.transform(x), columns=['Entertaining','Water_Activity','Own','With_Family','Fishing_Alone','Character'])\n",
    "new_Q2.head()"
   ]
  },
  {
   "cell_type": "code",
   "execution_count": 68,
   "metadata": {
    "ExecuteTime": {
     "end_time": "2021-11-20T13:20:36.099132Z",
     "start_time": "2021-11-20T13:20:35.971162Z"
    }
   },
   "outputs": [
    {
     "data": {
      "text/html": [
       "<div>\n",
       "<style scoped>\n",
       "    .dataframe tbody tr th:only-of-type {\n",
       "        vertical-align: middle;\n",
       "    }\n",
       "\n",
       "    .dataframe tbody tr th {\n",
       "        vertical-align: top;\n",
       "    }\n",
       "\n",
       "    .dataframe thead th {\n",
       "        text-align: right;\n",
       "    }\n",
       "</style>\n",
       "<table border=\"1\" class=\"dataframe\">\n",
       "  <thead>\n",
       "    <tr style=\"text-align: right;\">\n",
       "      <th></th>\n",
       "      <th>Active</th>\n",
       "      <th>Achievement</th>\n",
       "      <th>Confidence</th>\n",
       "      <th>Tech</th>\n",
       "      <th>Basic</th>\n",
       "    </tr>\n",
       "  </thead>\n",
       "  <tbody>\n",
       "    <tr>\n",
       "      <th>0</th>\n",
       "      <td>1.603504</td>\n",
       "      <td>1.925999</td>\n",
       "      <td>0.588489</td>\n",
       "      <td>2.312300</td>\n",
       "      <td>-1.403017</td>\n",
       "    </tr>\n",
       "    <tr>\n",
       "      <th>1</th>\n",
       "      <td>0.183254</td>\n",
       "      <td>1.290527</td>\n",
       "      <td>-0.175544</td>\n",
       "      <td>0.822054</td>\n",
       "      <td>-0.744389</td>\n",
       "    </tr>\n",
       "    <tr>\n",
       "      <th>2</th>\n",
       "      <td>-0.412127</td>\n",
       "      <td>1.290524</td>\n",
       "      <td>0.255103</td>\n",
       "      <td>1.639500</td>\n",
       "      <td>-1.675826</td>\n",
       "    </tr>\n",
       "    <tr>\n",
       "      <th>3</th>\n",
       "      <td>0.722554</td>\n",
       "      <td>0.272728</td>\n",
       "      <td>0.468732</td>\n",
       "      <td>1.946347</td>\n",
       "      <td>-0.437991</td>\n",
       "    </tr>\n",
       "    <tr>\n",
       "      <th>4</th>\n",
       "      <td>0.666488</td>\n",
       "      <td>1.556704</td>\n",
       "      <td>1.426527</td>\n",
       "      <td>1.788969</td>\n",
       "      <td>-0.697391</td>\n",
       "    </tr>\n",
       "  </tbody>\n",
       "</table>\n",
       "</div>"
      ],
      "text/plain": [
       "     Active  Achievement  Confidence      Tech     Basic\n",
       "0  1.603504     1.925999    0.588489  2.312300 -1.403017\n",
       "1  0.183254     1.290527   -0.175544  0.822054 -0.744389\n",
       "2 -0.412127     1.290524    0.255103  1.639500 -1.675826\n",
       "3  0.722554     0.272728    0.468732  1.946347 -0.437991\n",
       "4  0.666488     1.556704    1.426527  1.788969 -0.697391"
      ]
     },
     "execution_count": 68,
     "metadata": {},
     "output_type": "execute_result"
    }
   ],
   "source": [
    "Q1_data = pd.read_csv('data.csv')\n",
    "Q1_data.iloc[:, :5].head()"
   ]
  },
  {
   "cell_type": "code",
   "execution_count": 69,
   "metadata": {
    "ExecuteTime": {
     "end_time": "2021-11-20T13:21:18.931796Z",
     "start_time": "2021-11-20T13:21:18.922287Z"
    }
   },
   "outputs": [],
   "source": [
    "new_data = pd.concat([Q1_data.iloc[:, :5], data.iloc[:, 31:32], new_Q2, data.iloc[:, 46:]], axis=1)"
   ]
  },
  {
   "cell_type": "code",
   "execution_count": 70,
   "metadata": {
    "ExecuteTime": {
     "end_time": "2021-11-20T13:21:32.450268Z",
     "start_time": "2021-11-20T13:21:31.726931Z"
    }
   },
   "outputs": [],
   "source": [
    "new_data.to_csv('data_2.csv', index=False)"
   ]
  },
  {
   "cell_type": "code",
   "execution_count": null,
   "metadata": {},
   "outputs": [],
   "source": []
  }
 ],
 "metadata": {
  "kernelspec": {
   "display_name": "Python 3",
   "language": "python",
   "name": "python3"
  },
  "language_info": {
   "codemirror_mode": {
    "name": "ipython",
    "version": 3
   },
   "file_extension": ".py",
   "mimetype": "text/x-python",
   "name": "python",
   "nbconvert_exporter": "python",
   "pygments_lexer": "ipython3",
   "version": "3.8.5"
  },
  "toc": {
   "base_numbering": 1,
   "nav_menu": {},
   "number_sections": true,
   "sideBar": true,
   "skip_h1_title": false,
   "title_cell": "Table of Contents",
   "title_sidebar": "Contents",
   "toc_cell": false,
   "toc_position": {},
   "toc_section_display": true,
   "toc_window_display": false
  },
  "varInspector": {
   "cols": {
    "lenName": 16,
    "lenType": 16,
    "lenVar": 40
   },
   "kernels_config": {
    "python": {
     "delete_cmd_postfix": "",
     "delete_cmd_prefix": "del ",
     "library": "var_list.py",
     "varRefreshCmd": "print(var_dic_list())"
    },
    "r": {
     "delete_cmd_postfix": ") ",
     "delete_cmd_prefix": "rm(",
     "library": "var_list.r",
     "varRefreshCmd": "cat(var_dic_list()) "
    }
   },
   "types_to_exclude": [
    "module",
    "function",
    "builtin_function_or_method",
    "instance",
    "_Feature"
   ],
   "window_display": false
  }
 },
 "nbformat": 4,
 "nbformat_minor": 4
}
